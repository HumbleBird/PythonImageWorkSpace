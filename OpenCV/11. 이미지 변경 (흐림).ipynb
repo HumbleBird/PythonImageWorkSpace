{
 "cells": [
  {
   "cell_type": "markdown",
   "id": "6147fcf2-2403-485f-9702-3026877c9644",
   "metadata": {},
   "source": [
    "# 11. 이미지 변경 (흐림)"
   ]
  },
  {
   "cell_type": "markdown",
   "id": "ea6a7a75-1e62-4255-a7bc-3f7557bfae5d",
   "metadata": {},
   "source": [
    "## 가우시안 블러"
   ]
  },
  {
   "cell_type": "markdown",
   "id": "05be6643-6927-4cae-9fe4-dcc2f3f58ae5",
   "metadata": {},
   "source": [
    "### 커널 사이즈 변화에 따른 흐림"
   ]
  },
  {
   "cell_type": "code",
   "execution_count": 2,
   "id": "e9c425bc-2cfb-49a5-b641-66ba84d9709f",
   "metadata": {},
   "outputs": [],
   "source": [
    "import cv2\n",
    "img = cv2.imread('img.jpg')\n",
    "\n",
    "# (3, 3), (5, 5), (7, 7)\n",
    "kernel_3 = cv2.GaussianBlur(img, (3, 3), 0)\n",
    "kernel_5 = cv2.GaussianBlur(img, (5, 5), 0)\n",
    "kernel_7 = cv2.GaussianBlur(img, (7, 7), 0)\n",
    "\n",
    "cv2.imshow('img', img)\n",
    "cv2.imshow('kernel_3', kernel_3)\n",
    "cv2.imshow('kernel_5', kernel_5)\n",
    "cv2.imshow('kernel_7', kernel_7)\n",
    "cv2.waitKey(0)\n",
    "cv2.destroyAllWindows()"
   ]
  },
  {
   "cell_type": "markdown",
   "id": "94b6c695-6a3b-40ca-acf8-5e0ca8e53aac",
   "metadata": {},
   "source": [
    "### 표준 편차 변화에 따른 흐림"
   ]
  },
  {
   "cell_type": "code",
   "execution_count": 3,
   "id": "cb8f3256-bc4d-44bc-ac35-508db1ae47b2",
   "metadata": {},
   "outputs": [],
   "source": [
    "import cv2\n",
    "img = cv2.imread('img.jpg')\n",
    "\n",
    "Sigma_1 = cv2.GaussianBlur(img, (0, 0), 1) # SigmaX - 가우시안 커널의 x 방향의 표준 편차\n",
    "Sigma_2 = cv2.GaussianBlur(img, (0, 0), 2)\n",
    "Sigma_3 = cv2.GaussianBlur(img, (0, 0), 3)\n",
    "\n",
    "cv2.imshow('img', img)\n",
    "cv2.imshow('Sigma_1', Sigma_1)\n",
    "cv2.imshow('Sigma_2', Sigma_2)\n",
    "cv2.imshow('Sigma_3', Sigma_3)\n",
    "cv2.waitKey(0)\n",
    "cv2.destroyAllWindows()"
   ]
  },
  {
   "cell_type": "code",
   "execution_count": null,
   "id": "deefb49a-88b3-4b29-a4eb-3bb8f2bc0b03",
   "metadata": {},
   "outputs": [],
   "source": []
  }
 ],
 "metadata": {
  "kernelspec": {
   "display_name": "Python 3 (ipykernel)",
   "language": "python",
   "name": "python3"
  },
  "language_info": {
   "codemirror_mode": {
    "name": "ipython",
    "version": 3
   },
   "file_extension": ".py",
   "mimetype": "text/x-python",
   "name": "python",
   "nbconvert_exporter": "python",
   "pygments_lexer": "ipython3",
   "version": "3.12.7"
  }
 },
 "nbformat": 4,
 "nbformat_minor": 5
}
