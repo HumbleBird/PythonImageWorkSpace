{
 "cells": [
  {
   "cell_type": "markdown",
   "id": "814f0c0c-44b9-4902-bf9b-7467c031b0ec",
   "metadata": {},
   "source": [
    "#  16. 이미지 변환 (열림 & 닫힘)"
   ]
  },
  {
   "cell_type": "markdown",
   "id": "e244f73e-7506-4076-836b-7b10d8a236be",
   "metadata": {},
   "source": [
    "## 열림 (Opening) : 침식 후 팽창. 갂아서 노이즈 제거 후 살 찌움\n",
    "-> dilate (erode (iamge))"
   ]
  },
  {
   "cell_type": "code",
   "execution_count": 1,
   "id": "4251cf42-fd2f-465d-9854-62e1e44a5cd2",
   "metadata": {},
   "outputs": [],
   "source": [
    "import cv2\n",
    "import numpy as np\n",
    "\n",
    "kernel = np.ones((3, 3), dtype=np.uint8)\n",
    "# kernel\n",
    "\n",
    "img = cv2.imread('erode.png', cv2.IMREAD_GRAYSCALE)\n",
    "erode = cv2.erode(img, kernel, iterations=3) \n",
    "dilate = cv2.dilate(erode, kernel, iterations=3) \n",
    "\n",
    "cv2.imshow('gray', img)\n",
    "cv2.imshow('erode', erode)\n",
    "cv2.imshow('dilate', dilate)\n",
    "cv2.waitKey(0)\n",
    "cv2.destroyAllWindows()"
   ]
  },
  {
   "cell_type": "markdown",
   "id": "ccde507e-ec42-4c5a-ae1c-4555ea93f897",
   "metadata": {},
   "source": [
    "## 닫힘 (Closing) : 팽창 후 침식. 구멍을 메운 후 다시 깎음\n",
    "-> erode(dilate(image))"
   ]
  },
  {
   "cell_type": "code",
   "execution_count": 6,
   "id": "6fab01b1-8080-4661-9274-e9d31870833a",
   "metadata": {},
   "outputs": [],
   "source": [
    "import cv2\n",
    "import numpy as np\n",
    "\n",
    "kernel = np.ones((3, 3), dtype=np.uint8)\n",
    "# kernel\n",
    "\n",
    "img = cv2.imread('dilate.png', cv2.IMREAD_GRAYSCALE)\n",
    "dilate = cv2.dilate(img, kernel, iterations=3) \n",
    "erode = cv2.erode(dilate, kernel, iterations=3) \n",
    "\n",
    "cv2.imshow('gray', img)\n",
    "cv2.imshow('erode', erode)\n",
    "cv2.imshow('dilate', dilate)\n",
    "cv2.waitKey(0)\n",
    "cv2.destroyAllWindows()"
   ]
  },
  {
   "cell_type": "code",
   "execution_count": null,
   "id": "ea44bf7c-3fd4-4bb1-b082-4d4d6dd77381",
   "metadata": {},
   "outputs": [],
   "source": []
  }
 ],
 "metadata": {
  "kernelspec": {
   "display_name": "Python 3 (ipykernel)",
   "language": "python",
   "name": "python3"
  },
  "language_info": {
   "codemirror_mode": {
    "name": "ipython",
    "version": 3
   },
   "file_extension": ".py",
   "mimetype": "text/x-python",
   "name": "python",
   "nbconvert_exporter": "python",
   "pygments_lexer": "ipython3",
   "version": "3.12.7"
  }
 },
 "nbformat": 4,
 "nbformat_minor": 5
}
