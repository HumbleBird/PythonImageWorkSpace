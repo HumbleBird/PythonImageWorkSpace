{
 "cells": [
  {
   "cell_type": "markdown",
   "id": "43cfcd0a-3d1a-4dde-ba87-ea13ff2ed546",
   "metadata": {},
   "source": [
    "# 퀴즈"
   ]
  },
  {
   "cell_type": "markdown",
   "id": "d6b9744f-a836-44de-b4f0-146a26cb5d47",
   "metadata": {},
   "source": [
    "## OpenCV를 이용하여 가로로 촬영된 영상을 세로로 회전하는 프로그램을 작성하시오"
   ]
  },
  {
   "cell_type": "markdown",
   "id": "df27eca4-209a-4a26-937b-7df3361ca07f",
   "metadata": {},
   "source": [
    "### 조건\n",
    "1. 회전 : 시계 반대방향으로 90도\n",
    "2. 재생속도 (FPS) : 원본 x 4배\n",
    "3. 출력 파일명 : city_output.avi (코덱 : DIVX)"
   ]
  },
  {
   "cell_type": "code",
   "execution_count": 11,
   "id": "8eadf0f9-5d22-4e3f-8641-cf6721881f0c",
   "metadata": {},
   "outputs": [
    {
     "name": "stdout",
     "output_type": "stream",
     "text": [
      "사용자 입력에 의해 종료합니다.\n"
     ]
    }
   ],
   "source": [
    "import cv2\n",
    "cap = cv2.VideoCapture('city.mp4')\n",
    "fourcc = cv2.VideoWriter_fourcc(*'DIVX')\n",
    "width = round(cap.get(cv2.CAP_PROP_FRAME_WIDTH))\n",
    "height = round(cap.get(cv2.CAP_PROP_FRAME_HEIGHT))\n",
    "fps = cap.get(cv2.CAP_PROP_FPS)\n",
    "\n",
    "out = cv2.VideoWriter('city_output.avi', fourcc, fps * 4, (height, width))\n",
    "\n",
    "while cap.isOpened(): # 동영상 파일이 올바로 열렸는지?\n",
    "    ret, frame = cap.read() # ret : 성공 여부, frame : 받아온 이미지 (프레임)\n",
    "    if not ret : \n",
    "        print('더 이상 가져올 프레임이 없어요')\n",
    "        break\n",
    "\n",
    "    rotate_270 = cv2.rotate(frame, cv2.ROTATE_90_COUNTERCLOCKWISE) # 시계 방향으로 270도 회전\n",
    "    out.write(rotate_270) # 영상 데이터만 저장 (소리 x)\n",
    "    cv2.imshow('video', frame)\n",
    "\n",
    "    if cv2.waitKey(1) == ord('q'):\n",
    "        print('사용자 입력에 의해 종료합니다.')\n",
    "        break\n",
    "\n",
    "cap.release() # 자원 해제\n",
    "cv2.destroyAllWindows() # 모든 창 닫기"
   ]
  },
  {
   "cell_type": "code",
   "execution_count": null,
   "id": "52a4bd72-29eb-4b20-b5d4-1196e6aa5264",
   "metadata": {},
   "outputs": [],
   "source": []
  }
 ],
 "metadata": {
  "kernelspec": {
   "display_name": "Python 3 (ipykernel)",
   "language": "python",
   "name": "python3"
  },
  "language_info": {
   "codemirror_mode": {
    "name": "ipython",
    "version": 3
   },
   "file_extension": ".py",
   "mimetype": "text/x-python",
   "name": "python",
   "nbconvert_exporter": "python",
   "pygments_lexer": "ipython3",
   "version": "3.12.7"
  }
 },
 "nbformat": 4,
 "nbformat_minor": 5
}
