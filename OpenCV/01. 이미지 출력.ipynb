{
 "cells": [
  {
   "cell_type": "markdown",
   "id": "89f9c8c6-58b0-43b3-9bf0-cc3c3eebbb07",
   "metadata": {},
   "source": [
    "# 환경설정\n",
    "Anaconda Prompt 에서 명령 수행\n",
    "> pip install opencv-python"
   ]
  },
  {
   "cell_type": "code",
   "execution_count": 1,
   "id": "0778cf7e-bfae-45be-a45d-2cfb17440f61",
   "metadata": {},
   "outputs": [
    {
     "data": {
      "text/plain": [
       "'4.10.0'"
      ]
     },
     "execution_count": 1,
     "metadata": {},
     "output_type": "execute_result"
    }
   ],
   "source": [
    "import cv2\n",
    "cv2.__version__"
   ]
  },
  {
   "cell_type": "markdown",
   "id": "41f5ff9b-c8bc-46fe-ab42-b65e9a244a54",
   "metadata": {},
   "source": [
    "# OpenCV(Computer Vision)\n",
    "다양한 영상 (이미지) / 동영상 처리에 사용되는 오픈소스 라이브러리"
   ]
  },
  {
   "cell_type": "markdown",
   "id": "14dc168c-53f8-4243-b2e1-74e8580b61b8",
   "metadata": {},
   "source": [
    "# 1. 이미지 출력"
   ]
  },
  {
   "cell_type": "code",
   "execution_count": 4,
   "id": "073243e0-98ef-4069-8db9-ef93e4cbb1a5",
   "metadata": {},
   "outputs": [
    {
     "name": "stdout",
     "output_type": "stream",
     "text": [
      "119\n"
     ]
    }
   ],
   "source": [
    "import cv2\n",
    "img = cv2.imread('img.jpg') # 해당 경로의 파일 읽어오기\n",
    "cv2.imshow('img', img) # img 라는 이름의 창에 img를 표시\n",
    "cv2.waitKey() # 지정된 시간 동안 사용자 키 입력 대기\n",
    "cv2.destroyAllWindows() # 모든 창 닫기"
   ]
  },
  {
   "cell_type": "markdown",
   "id": "61e77821-a470-4c74-9f49-f0648a62fb6b",
   "metadata": {},
   "source": [
    "## 일기 옵션\n",
    "1. cv2.IMREAD_COLOR : 컬러 이미지. xnaud duddurdms antl (기본값)\n",
    "2. cv2.IMREAD_GRAYSCALE : 흑백 이미지\n",
    "3. cv2.IMREAD_UNCHANGED : 투명 영역까지 포함"
   ]
  },
  {
   "cell_type": "code",
   "execution_count": 5,
   "id": "ff06117e-659d-4dad-8d10-45754775f8ba",
   "metadata": {},
   "outputs": [],
   "source": [
    "import cv2\n",
    "img_color = cv2.imread('img.jpg', cv2.IMREAD_COLOR)\n",
    "img_gray = cv2.imread('img.jpg', cv2.IMREAD_GRAYSCALE)\n",
    "img_unc = cv2.imread('img.jpg', cv2.IMREAD_UNCHANGED)\n",
    "\n",
    "cv2.imshow('img', img_color)\n",
    "cv2.imshow('img_gray', img_gray)\n",
    "cv2.imshow('img_unc', img_unc)\n",
    "\n",
    "cv2.waitKey(0)\n",
    "cv2.destroyAllWindows()"
   ]
  },
  {
   "cell_type": "markdown",
   "id": "1d9cfc02-df4e-4c86-861c-d36351c1832d",
   "metadata": {},
   "source": [
    "## Shape\n",
    "이미지의 height, width, channel 정보"
   ]
  },
  {
   "cell_type": "code",
   "execution_count": 7,
   "id": "6f065a61-c001-4c1d-a8d7-993b11402cfe",
   "metadata": {},
   "outputs": [
    {
     "data": {
      "text/plain": [
       "(426, 640, 3)"
      ]
     },
     "execution_count": 7,
     "metadata": {},
     "output_type": "execute_result"
    }
   ],
   "source": [
    "import cv2\n",
    "img = cv2.imread('img.jpg')\n",
    "img.shape # 세로, 가로, Channel"
   ]
  }
 ],
 "metadata": {
  "kernelspec": {
   "display_name": "Python 3 (ipykernel)",
   "language": "python",
   "name": "python3"
  },
  "language_info": {
   "codemirror_mode": {
    "name": "ipython",
    "version": 3
   },
   "file_extension": ".py",
   "mimetype": "text/x-python",
   "name": "python",
   "nbconvert_exporter": "python",
   "pygments_lexer": "ipython3",
   "version": "3.12.7"
  }
 },
 "nbformat": 4,
 "nbformat_minor": 5
}
